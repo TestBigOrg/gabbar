{
 "cells": [
  {
   "cell_type": "markdown",
   "metadata": {},
   "source": [
    "# Use compare function results\n",
    "- This is a 💥 idea. Thank you once again @anandthakker!"
   ]
  },
  {
   "cell_type": "code",
   "execution_count": 1,
   "metadata": {
    "collapsed": true
   },
   "outputs": [],
   "source": [
    "%matplotlib inline\n",
    "%config InlineBackend.figure_format = 'retina'\n",
    "\n",
    "import warnings\n",
    "warnings.filterwarnings(\"ignore\")"
   ]
  },
  {
   "cell_type": "code",
   "execution_count": 2,
   "metadata": {
    "collapsed": true
   },
   "outputs": [],
   "source": [
    "import pandas as pd\n",
    "import numpy as np\n",
    "import matplotlib.pyplot as plt\n",
    "import seaborn as sns"
   ]
  },
  {
   "cell_type": "code",
   "execution_count": 20,
   "metadata": {},
   "outputs": [
    {
     "name": "stderr",
     "output_type": "stream",
     "text": [
      "/Users/bkowshik/anaconda/lib/python3.5/site-packages/sklearn/learning_curve.py:23: DeprecationWarning: This module was deprecated in version 0.18 in favor of the model_selection module into which all the functions are moved. This module will be removed in 0.20\n",
      "  DeprecationWarning)\n"
     ]
    }
   ],
   "source": [
    "from sklearn import preprocessing\n",
    "from sklearn.svm import SVC\n",
    "from sklearn.cross_validation import train_test_split\n",
    "from sklearn.metrics import classification_report\n",
    "from sklearn.cross_validation import cross_val_score\n",
    "from sklearn.learning_curve import learning_curve"
   ]
  },
  {
   "cell_type": "code",
   "execution_count": 4,
   "metadata": {},
   "outputs": [
    {
     "name": "stdout",
     "output_type": "stream",
     "text": [
      "(64248, 19)\n"
     ]
    },
    {
     "data": {
      "text/html": [
       "<div>\n",
       "<table border=\"1\" class=\"dataframe\">\n",
       "  <thead>\n",
       "    <tr style=\"text-align: right;\">\n",
       "      <th></th>\n",
       "      <th>ID</th>\n",
       "      <th>user</th>\n",
       "      <th>editor</th>\n",
       "      <th>Powerfull Editor</th>\n",
       "      <th>comment</th>\n",
       "      <th>source</th>\n",
       "      <th>imagery used</th>\n",
       "      <th>date</th>\n",
       "      <th>reasons</th>\n",
       "      <th>reasons__name</th>\n",
       "      <th>create</th>\n",
       "      <th>modify</th>\n",
       "      <th>delete</th>\n",
       "      <th>bbox</th>\n",
       "      <th>is suspect</th>\n",
       "      <th>harmful</th>\n",
       "      <th>checked</th>\n",
       "      <th>check_user__username</th>\n",
       "      <th>check date</th>\n",
       "    </tr>\n",
       "  </thead>\n",
       "  <tbody>\n",
       "    <tr>\n",
       "      <th>62639</th>\n",
       "      <td>37207529</td>\n",
       "      <td>Silent7</td>\n",
       "      <td>JOSM/1.5 (9329 ru)</td>\n",
       "      <td>True</td>\n",
       "      <td>леса; молодые леса</td>\n",
       "      <td>Bing</td>\n",
       "      <td>Not reported</td>\n",
       "      <td>2016-02-14T16:52:00+00:00</td>\n",
       "      <td>2.0</td>\n",
       "      <td>possible import</td>\n",
       "      <td>306.0</td>\n",
       "      <td>0.0</td>\n",
       "      <td>0.0</td>\n",
       "      <td>SRID=4326;POLYGON ((54.9652697 58.3497383, 54....</td>\n",
       "      <td>True</td>\n",
       "      <td>False</td>\n",
       "      <td>True</td>\n",
       "      <td>andygol</td>\n",
       "      <td>2016-04-07T12:29:22.344002+00:00</td>\n",
       "    </tr>\n",
       "    <tr>\n",
       "      <th>45473</th>\n",
       "      <td>43193824</td>\n",
       "      <td>flockfinder</td>\n",
       "      <td>Go Map!! 1.4</td>\n",
       "      <td>False</td>\n",
       "      <td>Added tags</td>\n",
       "      <td>Not reported</td>\n",
       "      <td>Not reported</td>\n",
       "      <td>2016-10-26T14:15:29+00:00</td>\n",
       "      <td>13.0</td>\n",
       "      <td>edited a name tag</td>\n",
       "      <td>6.0</td>\n",
       "      <td>5.0</td>\n",
       "      <td>61.0</td>\n",
       "      <td>SRID=4326;POLYGON ((-118.1686082 34.7231313, -...</td>\n",
       "      <td>True</td>\n",
       "      <td>False</td>\n",
       "      <td>True</td>\n",
       "      <td>dannykath</td>\n",
       "      <td>2016-11-29T15:55:20.227959+00:00</td>\n",
       "    </tr>\n",
       "  </tbody>\n",
       "</table>\n",
       "</div>"
      ],
      "text/plain": [
       "             ID         user              editor Powerfull Editor  \\\n",
       "62639  37207529      Silent7  JOSM/1.5 (9329 ru)             True   \n",
       "45473  43193824  flockfinder        Go Map!! 1.4            False   \n",
       "\n",
       "                  comment        source  imagery used  \\\n",
       "62639  леса; молодые леса          Bing  Not reported   \n",
       "45473          Added tags  Not reported  Not reported   \n",
       "\n",
       "                            date  reasons      reasons__name  create  modify  \\\n",
       "62639  2016-02-14T16:52:00+00:00      2.0    possible import   306.0     0.0   \n",
       "45473  2016-10-26T14:15:29+00:00     13.0  edited a name tag     6.0     5.0   \n",
       "\n",
       "       delete                                               bbox is suspect  \\\n",
       "62639     0.0  SRID=4326;POLYGON ((54.9652697 58.3497383, 54....       True   \n",
       "45473    61.0  SRID=4326;POLYGON ((-118.1686082 34.7231313, -...       True   \n",
       "\n",
       "      harmful checked check_user__username                        check date  \n",
       "62639   False    True              andygol  2016-04-07T12:29:22.344002+00:00  \n",
       "45473   False    True            dannykath  2016-11-29T15:55:20.227959+00:00  "
      ]
     },
     "execution_count": 4,
     "metadata": {},
     "output_type": "execute_result"
    }
   ],
   "source": [
    "changesets = pd.read_csv('../data/use-compare-function-results/changesets.csv')\n",
    "print(changesets.shape)\n",
    "changesets.sample(2)"
   ]
  },
  {
   "cell_type": "markdown",
   "metadata": {},
   "source": [
    "## Some numbers on \"reasons\""
   ]
  },
  {
   "cell_type": "code",
   "execution_count": 5,
   "metadata": {},
   "outputs": [
    {
     "name": "stdout",
     "output_type": "stream",
     "text": [
      "Changests with atleast one reason: 26990\n"
     ]
    }
   ],
   "source": [
    "# How many changesets have atleast one reason?\n",
    "reason_changesets = changesets[changesets['reasons__name'].isnull() == False].drop_duplicates('ID')\n",
    "print('Changests with atleast one reason: {}'.format(reason_changesets.shape[0]))"
   ]
  },
  {
   "cell_type": "code",
   "execution_count": 6,
   "metadata": {},
   "outputs": [
    {
     "name": "stdout",
     "output_type": "stream",
     "text": [
      "Changests without a reason: 32257\n"
     ]
    }
   ],
   "source": [
    "# How many changesets have no reasons?\n",
    "no_reason_changesets = changesets[changesets['reasons__name'].isnull()].drop_duplicates('ID')\n",
    "print('Changests without a reason: {}'.format(no_reason_changesets.shape[0]))"
   ]
  },
  {
   "cell_type": "code",
   "execution_count": 7,
   "metadata": {},
   "outputs": [
    {
     "name": "stdout",
     "output_type": "stream",
     "text": [
      "['Major name modification' 'New mapper' 'suspect_word'\n",
      " 'Added invalid highway tag' 'possible import' 'Invalid tag modification'\n",
      " 'Edited a place' 'mass deletion' 'Flagged by gabbar'\n",
      " 'Edited an osm landmark' 'Edited a major lake' 'mass modification'\n",
      " 'New footway created' 'Invalid key value combination'\n",
      " 'Edited a major road' 'Unknown iD instance' 'Feature with Pokename'\n",
      " 'Added a large building' 'Edited an old monument'\n",
      " 'Added a new place(city/town/country)' 'Deleted a wikidata/wikipedia tag'\n",
      " 'Software editor was not declared' 'Feature near Null Island'\n",
      " 'Dragged highway/waterway' 'Edited a place wikidata' 'edited a name tag'\n",
      " 'Edited an object having disputed tag'\n",
      " 'Edited a landmark wikidata/wikipedia' 'Edited a path road'\n",
      " 'Deleted a wikidata tag' 'edited a wikipedia' 'edited a database wikidata'\n",
      " 'edited a wikidata' 'edited a database wikipedia' 'Invalid relation'\n",
      " 'edited an object with a significant tag'\n",
      " 'moved an object a significant amount'\n",
      " 'edited an object with a significant place tag'\n",
      " 'edited a wikipedia landmark']\n",
      "Number of reasons: 39\n"
     ]
    }
   ],
   "source": [
    "reasons = changesets['reasons__name'].dropna().drop_duplicates().values\n",
    "print(reasons)\n",
    "print('Number of reasons: {}'.format(len(reasons)))"
   ]
  },
  {
   "cell_type": "markdown",
   "metadata": {},
   "source": [
    "## Convert \"reasons\" to a numerical value"
   ]
  },
  {
   "cell_type": "code",
   "execution_count": 8,
   "metadata": {
    "collapsed": true
   },
   "outputs": [],
   "source": [
    "for reason in reasons:\n",
    "    changesets[reason] = (changesets['reasons__name'] == reason).apply(int)"
   ]
  },
  {
   "cell_type": "code",
   "execution_count": 9,
   "metadata": {},
   "outputs": [
    {
     "name": "stdout",
     "output_type": "stream",
     "text": [
      "(64248, 58)\n"
     ]
    },
    {
     "data": {
      "text/html": [
       "<div>\n",
       "<table border=\"1\" class=\"dataframe\">\n",
       "  <thead>\n",
       "    <tr style=\"text-align: right;\">\n",
       "      <th></th>\n",
       "      <th>ID</th>\n",
       "      <th>user</th>\n",
       "      <th>editor</th>\n",
       "      <th>Powerfull Editor</th>\n",
       "      <th>comment</th>\n",
       "      <th>source</th>\n",
       "      <th>imagery used</th>\n",
       "      <th>date</th>\n",
       "      <th>reasons</th>\n",
       "      <th>reasons__name</th>\n",
       "      <th>...</th>\n",
       "      <th>Deleted a wikidata tag</th>\n",
       "      <th>edited a wikipedia</th>\n",
       "      <th>edited a database wikidata</th>\n",
       "      <th>edited a wikidata</th>\n",
       "      <th>edited a database wikipedia</th>\n",
       "      <th>Invalid relation</th>\n",
       "      <th>edited an object with a significant tag</th>\n",
       "      <th>moved an object a significant amount</th>\n",
       "      <th>edited an object with a significant place tag</th>\n",
       "      <th>edited a wikipedia landmark</th>\n",
       "    </tr>\n",
       "  </thead>\n",
       "  <tbody>\n",
       "    <tr>\n",
       "      <th>0</th>\n",
       "      <td>47491144</td>\n",
       "      <td>RichRico</td>\n",
       "      <td>JOSM/1.5 (11639 en)</td>\n",
       "      <td>True</td>\n",
       "      <td>Adding junction nodes or bridges to overlappin...</td>\n",
       "      <td>Bing</td>\n",
       "      <td>Not reported</td>\n",
       "      <td>2017-04-05T22:46:26+00:00</td>\n",
       "      <td>NaN</td>\n",
       "      <td>NaN</td>\n",
       "      <td>...</td>\n",
       "      <td>0</td>\n",
       "      <td>0</td>\n",
       "      <td>0</td>\n",
       "      <td>0</td>\n",
       "      <td>0</td>\n",
       "      <td>0</td>\n",
       "      <td>0</td>\n",
       "      <td>0</td>\n",
       "      <td>0</td>\n",
       "      <td>0</td>\n",
       "    </tr>\n",
       "    <tr>\n",
       "      <th>1</th>\n",
       "      <td>47490912</td>\n",
       "      <td>Birgitta_fi</td>\n",
       "      <td>rosemary v0.4.4</td>\n",
       "      <td>False</td>\n",
       "      <td>Modified via wheelmap.org</td>\n",
       "      <td>Not reported</td>\n",
       "      <td>Not reported</td>\n",
       "      <td>2017-04-05T22:27:45+00:00</td>\n",
       "      <td>23.0</td>\n",
       "      <td>Major name modification</td>\n",
       "      <td>...</td>\n",
       "      <td>0</td>\n",
       "      <td>0</td>\n",
       "      <td>0</td>\n",
       "      <td>0</td>\n",
       "      <td>0</td>\n",
       "      <td>0</td>\n",
       "      <td>0</td>\n",
       "      <td>0</td>\n",
       "      <td>0</td>\n",
       "      <td>0</td>\n",
       "    </tr>\n",
       "  </tbody>\n",
       "</table>\n",
       "<p>2 rows × 58 columns</p>\n",
       "</div>"
      ],
      "text/plain": [
       "         ID         user               editor Powerfull Editor  \\\n",
       "0  47491144     RichRico  JOSM/1.5 (11639 en)             True   \n",
       "1  47490912  Birgitta_fi      rosemary v0.4.4            False   \n",
       "\n",
       "                                             comment        source  \\\n",
       "0  Adding junction nodes or bridges to overlappin...          Bing   \n",
       "1                          Modified via wheelmap.org  Not reported   \n",
       "\n",
       "   imagery used                       date  reasons            reasons__name  \\\n",
       "0  Not reported  2017-04-05T22:46:26+00:00      NaN                      NaN   \n",
       "1  Not reported  2017-04-05T22:27:45+00:00     23.0  Major name modification   \n",
       "\n",
       "              ...               Deleted a wikidata tag  edited a wikipedia  \\\n",
       "0             ...                                    0                   0   \n",
       "1             ...                                    0                   0   \n",
       "\n",
       "   edited a database wikidata edited a wikidata edited a database wikipedia  \\\n",
       "0                           0                 0                           0   \n",
       "1                           0                 0                           0   \n",
       "\n",
       "  Invalid relation edited an object with a significant tag  \\\n",
       "0                0                                       0   \n",
       "1                0                                       0   \n",
       "\n",
       "  moved an object a significant amount  \\\n",
       "0                                    0   \n",
       "1                                    0   \n",
       "\n",
       "  edited an object with a significant place tag  edited a wikipedia landmark  \n",
       "0                                             0                            0  \n",
       "1                                             0                            0  \n",
       "\n",
       "[2 rows x 58 columns]"
      ]
     },
     "execution_count": 9,
     "metadata": {},
     "output_type": "execute_result"
    }
   ],
   "source": [
    "print(changesets.shape)\n",
    "changesets.head(2)"
   ]
  },
  {
   "cell_type": "code",
   "execution_count": 10,
   "metadata": {},
   "outputs": [
    {
     "name": "stdout",
     "output_type": "stream",
     "text": [
      "Reason: edited a wikipedia landmark\n",
      "Changesets with reason are: 520\n",
      "Numerical sum of changesets with reason: 520\n"
     ]
    }
   ],
   "source": [
    "# If the numbers match then Yay!\n",
    "print('Reason: {}'.format(reason))\n",
    "print('Changesets with reason are: {}'.format(changesets[changesets['reasons__name'] == reason].shape[0]))\n",
    "print('Numerical sum of changesets with reason: {}'.format(changesets[reason].sum()))"
   ]
  },
  {
   "cell_type": "markdown",
   "metadata": {},
   "source": [
    "## Train a ML model"
   ]
  },
  {
   "cell_type": "code",
   "execution_count": 11,
   "metadata": {
    "collapsed": true
   },
   "outputs": [],
   "source": [
    "columns = ['create', 'modify', 'delete', 'harmful']\n",
    "columns.extend(reasons)"
   ]
  },
  {
   "cell_type": "code",
   "execution_count": 12,
   "metadata": {
    "collapsed": true
   },
   "outputs": [],
   "source": [
    "# Extract all features used for training the ML model.\n",
    "features = changesets[columns]\n",
    "features = features.dropna()"
   ]
  },
  {
   "cell_type": "code",
   "execution_count": 13,
   "metadata": {
    "collapsed": true
   },
   "outputs": [],
   "source": [
    "# Scale features using RobustScaler that handles outliers better.\n",
    "X = features.drop('harmful', axis=1)\n",
    "scaler = preprocessing.RobustScaler().fit(X)"
   ]
  },
  {
   "cell_type": "code",
   "execution_count": 14,
   "metadata": {
    "collapsed": true
   },
   "outputs": [],
   "source": [
    "X = scaler.transform(features.drop('harmful', axis=1))\n",
    "y = features['harmful']"
   ]
  },
  {
   "cell_type": "code",
   "execution_count": 15,
   "metadata": {},
   "outputs": [
    {
     "name": "stdout",
     "output_type": "stream",
     "text": [
      "(44844, 42) (19219, 42)\n"
     ]
    }
   ],
   "source": [
    "# Split dataset into random train and test subsets.\n",
    "Xtrain, Xtest, ytrain, ytest = train_test_split(\n",
    "    X,\n",
    "    y,\n",
    "    train_size=0.7,\n",
    "    random_state=1\n",
    ")\n",
    "print(Xtrain.shape, Xtest.shape)"
   ]
  },
  {
   "cell_type": "code",
   "execution_count": 16,
   "metadata": {
    "collapsed": true
   },
   "outputs": [],
   "source": [
    "%%timeit\n",
    "\n",
    "model = SVC(kernel='rbf')\n",
    "model.fit(Xtrain, ytrain)\n",
    "y_model = model.predict(Xtest)"
   ]
  },
  {
   "cell_type": "code",
   "execution_count": 17,
   "metadata": {},
   "outputs": [
    {
     "name": "stdout",
     "output_type": "stream",
     "text": [
      "                 precision    recall  f1-score   support\n",
      "\n",
      "    problematic       0.75      0.00      0.01      1731\n",
      "not problematic       0.91      1.00      0.95     17488\n",
      "\n",
      "    avg / total       0.90      0.91      0.87     19219\n",
      "\n"
     ]
    }
   ],
   "source": [
    "# Performance of model.\n",
    "print(classification_report(ytest, y_model, labels=[True, False], target_names=['problematic', 'not problematic']))"
   ]
  },
  {
   "cell_type": "code",
   "execution_count": 19,
   "metadata": {},
   "outputs": [
    {
     "data": {
      "text/plain": [
       "0.90348556695920912"
      ]
     },
     "execution_count": 19,
     "metadata": {},
     "output_type": "execute_result"
    }
   ],
   "source": [
    "# Evaluate a score by cross-validation.\n",
    "scores = cross_val_score(model, X, y, cv=3)\n",
    "np.mean(scores)"
   ]
  },
  {
   "cell_type": "code",
   "execution_count": 22,
   "metadata": {},
   "outputs": [
    {
     "data": {
      "image/png": "[encoded data removed]",
      "text/plain": [
       "<matplotlib.figure.Figure at 0x11013ea58>"
      ]
     },
     "metadata": {
      "image/png": {
       "height": 535,
       "width": 784
      }
     },
     "output_type": "display_data"
    }
   ],
   "source": [
    "# Learning curve.\n",
    "fig, ax = plt.subplots(1, 1)\n",
    "\n",
    "N, train_lc, val_lc = learning_curve(model, X, y, cv=2, train_sizes=np.linspace(0.1, 1.0, 5))\n",
    "\n",
    "ax.plot(N, np.mean(train_lc, 1), color='blue', label='Training score')\n",
    "ax.plot(N, np.mean(val_lc, 1), color='red', label='Validation score')\n",
    "ax.hlines(np.mean([train_lc[-1], val_lc[-1]]), N[0], N[-1], color='gray', linestyle='dashed')\n",
    "\n",
    "ax.set_ylim(0, 1)\n",
    "ax.set_xlim(N[0], N[-1])\n",
    "ax.set_xlabel('Training size')\n",
    "ax.set_ylabel('Score')\n",
    "ax.set_title('Learning curve')\n",
    "ax.legend(loc='lower right')\n",
    "\n",
    "plt.tight_layout()"
   ]
  }
 ],
 "metadata": {
  "anaconda-cloud": {},
  "kernelspec": {
   "display_name": "Python [conda root]",
   "language": "python",
   "name": "conda-root-py"
  },
  "language_info": {
   "codemirror_mode": {
    "name": "ipython",
    "version": 3
   },
   "file_extension": ".py",
   "mimetype": "text/x-python",
   "name": "python",
   "nbconvert_exporter": "python",
   "pygments_lexer": "ipython3",
   "version": "3.5.2"
  }
 },
 "nbformat": 4,
 "nbformat_minor": 2
}
